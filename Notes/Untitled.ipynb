{
 "cells": [
  {
   "cell_type": "markdown",
   "metadata": {},
   "source": [
    "## Radiative Transitions\n",
    "\n",
    "The solutions which we have found to the Hydrogen Stomic Schrodinger equation eigenstates which are constant in time and are refered to as staitonary states. An interaction is required to transition between stationary state, which we will conider in the form of an electromagnetic field. This is a semiclassical approach, as a fulk quantum approach would require the quantistaion of the EM field into Photons. Consider the osccilating electromagentic field with polarisation $\\hat{e}_{rad}$.\n",
    "\n",
    "\\begin{equation}\n",
    "\\vec{E}=E_{0} \\operatorname{Re}\\left\\{e^{-i \\omega t} \\hat{e}_{rad}\\right\\}\n",
    "\\end{equation}\n",
    "\n",
    "Time-dependent perturbation theory is used to determine the probability associated with a transition from intiial state $i$ to final sate $f$ as being given by Fermis Golden Rule.\n",
    "\n",
    "\\begin{equation}\n",
    "\\Gamma=C\\left|\\int \\psi_{j}^{*}(r) \\widehat{H}_{I} \\psi_{i}(r) d^{3} r\\right|^{2}=C\\left|\\left\\langle\\psi_{j}\\left|\\widehat{H}_{I}\\right| \\psi_{i}\\right\\rangle\\right|^{2}=C\\left|\\left\\langle j\\left|\\widehat{H}_{I}\\right| i\\right\\rangle\\right|^{2}\n",
    "\\end{equation}\n",
    "\n",
    "For which $\\Gamma$ is a rate, with units $s^{-1}$. This a completely general expression to which we can apply any interaction hamiltonian. The interaction hamiltonian of our osicallating electic field is $\\widehat{H}_{I}(t)=e \\vec{r} \\cdot \\vec{E}(t)$ where $-e\\vec{r}$ is our dipole operator. This is a dipole approximation of the full interation hamiltonian $\\widehat{H}_{I}=\\frac{e}{2 m}(\\vec{p} \\cdot \\vec{A}-\\vec{A} \\cdot \\vec{p})+\\frac{e^{2}}{2 m} \\vec{A}^{2}-e \\phi$, which is valid under the assumption that the wavelength is long compared to the size of the dipole $\\lambda >> a_0$. Thus we end up with\n",
    "\n",
    "\\begin{equation}\n",
    "\\Gamma=C e^{2} E_{0}^{2}\\left|\\left\\langle j\\left|\\vec{r} \\cdot \\hat{e}_{r a d}\\right| i\\right\\rangle\\right|^{2}\n",
    "\\end{equation}\n",
    "\n",
    "Where the bra/ket term can be seperated into the angular and radial parts as follows\n",
    "\n",
    "\\begin{equation}\n",
    "\\left\\langle j\\left|\\vec{r} \\cdot \\hat{e}_{r a d}\\right| i\\right\\rangle=D_{i j} I_{a n g}\n",
    "\\end{equation}\n",
    "\n",
    "where\n",
    "\\begin{equation}\n",
    "D_{i j}=\\int_{0}^{\\infty} R_{n j l_{j}}^{*}(r) r R_{n_{i} l_{i}}(r) r^{2} d r\\\\\n",
    "I_{a n g}=\\iint_{0}^{2 \\pi \\pi}\\left(Y_{l_{j}}^{m_{l_{j}}}(\\theta, \\phi)\\right)^{*} \\hat{r} \\cdot \\hat{e}_{r a d} Y_{l_{i}}^{m_{l_{i}}}(\\theta, \\phi) \\sin \\theta d \\theta d \\phi\n",
    "\\end{equation}\n",
    "\n",
    "Interestingly we find that $D_{ij}=D_{ji}$ meaning that the probablility of the transiton is the same irrespective of its direction (increasing or decreasing in energy). To investigate how $I_{ang}$ behaves we need a to play around with the mathematics a bit. Consider that we can write the vector $\\vec{r}$ as \n",
    "\n",
    "\\begin{equation}\n",
    "\\begin{aligned}\n",
    "\\hat{r} &=\\frac{1}{r}(x \\hat{\\imath}+y \\hat{\\jmath}+z \\hat{k}) \\\\\n",
    "&=\\sin \\theta \\cos \\phi \\hat{\\imath}+\\sin \\theta \\sin \\phi \\hat{\\jmath}+\\cos \\theta \\hat{k}\n",
    "\\end{aligned}\n",
    "\\end{equation}\n",
    "\n",
    "which can then be further written in terms of spherical harmonics, which gives:\n",
    "\n",
    "\\begin{equation}\n",
    "\\hat{r}=\\sqrt{\\frac{4 \\pi}{3}}\\left[\\frac{1}{\\sqrt{2}}(\\hat{\\imath}+i \\hat{\\jmath}) Y_{1}^{-1}+\\frac{1}{\\sqrt{2}}(-\\hat{\\imath}+i \\hat{\\jmath}) Y_{1}^{1}+Y_{1}^{0} \\hat{k}\\right]\n",
    "\\end{equation}"
   ]
  },
  {
   "cell_type": "code",
   "execution_count": null,
   "metadata": {},
   "outputs": [],
   "source": []
  }
 ],
 "metadata": {
  "kernelspec": {
   "display_name": "Python 3",
   "language": "python",
   "name": "python3"
  },
  "language_info": {
   "codemirror_mode": {
    "name": "ipython",
    "version": 3
   },
   "file_extension": ".py",
   "mimetype": "text/x-python",
   "name": "python",
   "nbconvert_exporter": "python",
   "pygments_lexer": "ipython3",
   "version": "3.7.6"
  }
 },
 "nbformat": 4,
 "nbformat_minor": 4
}
