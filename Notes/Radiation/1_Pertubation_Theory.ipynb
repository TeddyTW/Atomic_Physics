{
 "cells": [
  {
   "cell_type": "markdown",
   "id": "76af220e-ed8e-4cf2-aeb3-a0b11986f7c1",
   "metadata": {},
   "source": [
    "# Pertubation Theory"
   ]
  },
  {
   "cell_type": "code",
   "execution_count": 7,
   "id": "11ba2a11-b509-4ade-856f-2f7d53c17311",
   "metadata": {
    "jupyter": {
     "source_hidden": true
    },
    "tags": []
   },
   "outputs": [],
   "source": [
    "import numpy as np\n",
    "import math\n",
    "import matplotlib.pyplot as plt"
   ]
  },
  {
   "cell_type": "markdown",
   "id": "cac2f86f-41f1-408a-978c-ee43b4d90796",
   "metadata": {},
   "source": [
    "Perturbation Theory was developed to deal with less order corrections to problems with exact solutions, like the harmonic oscillator and the hydrogen atom."
   ]
  },
  {
   "cell_type": "markdown",
   "id": "c33945ca-c1c8-4cd6-8d11-1046ed8435bc",
   "metadata": {},
   "source": [
    "## Time Independent\n",
    "\n",
    "Consider an unpeturbed time independent hamiltonian $H_0$, where we assume that the energy eigenvalue problem for the Hamiltonian$H_0$ can be solved exactly\n",
    "\n",
    "\\begin{equation}\n",
    "H_{0}\\left|\\varphi_{n}\\right\\rangle=E^{(0)}_{n}\\left|\\varphi_{n}\\right\\rangle\n",
    "\\end{equation}\n",
    "\n",
    "If we add a small perturbation, where $\\lambda$ is small:\n",
    "\\begin{equation}\n",
    "    H = H_0 + \\lambda H_I(t)\n",
    "\\end{equation}\n",
    "\n",
    "Then the time independent schropdinger equation becomes:\n",
    "\\begin{equation}\n",
    "    (H_0 + \\lambda H_I(t))|\\psi_{n}\\rangle = E_n|\\psi_{n}\\rangle\n",
    "\\end{equation}\n",
    "\n",
    "Presuming that this has no exact solutions, To solve it we use a perturbation series, which is a Maclaurin power series. This involves expanding the energy eigenvalues and eigenstates in powers of the small perturbation. To keep track of our pertubation we will add in a parameter $\\lambda$, which is a small parameter.\n",
    "\n",
    "\\begin{equation}\n",
    "\\begin{aligned}\n",
    "E_n=&E_n^{(0)}+\\lambda E_n^{(1)} +\\lambda^2 E_n^{(2)}+...  \\\\\n",
    "\\psi_n=& N(\\lambda)\\left( \\phi_{n} + \\sum_{n \\neq k }c_{nk}(\\lambda)\\phi_k \\right) \\\\\n",
    "c_{nk}(\\lambda)=&\\lambda c_{nk}^{(1)}+\\lambda^2 c_{nk}^{(2)}+...\n",
    "\\end{aligned}\n",
    "\\end{equation}\n",
    "\n",
    "Subbing this into our schrodinger equation, and dropping the factor of $N(\\lambda)$ from both sides:\n",
    "\\begin{equation}\n",
    "(H_0+\\lambda H_1)\\left( \\phi_{n} + \\sum_{n \\neq k }c_{nk}(\\lambda)\\phi_k \\right) = \\left(E_n^{(0)}+\\lambda E_n^{(1)} +\\lambda^2 E_n^{(2)}+... \\right)\\left( \\phi_{n} + \\sum_{n \\neq k }c_{nk}(\\lambda)\\phi_k \\right)\n",
    "\\end{equation}"
   ]
  },
  {
   "cell_type": "markdown",
   "id": "9d0ac6ea-a027-4af0-b953-b04ffab7c8b5",
   "metadata": {},
   "source": [
    "### Zeroth Order correction\n",
    "We drop all terms of $\\mathcal{O}(\\lambda)$ or less, this we return to the unperturbed system:\n",
    "\\begin{equation}\n",
    "H_{0}\\varphi_{n}=E^{(0)}_{n}\\varphi_{n}\n",
    "\\end{equation}\n",
    "No new information is gained here\n",
    "\n",
    "### First Order correction\n",
    "We drop all terms of $\\mathcal{O}(\\lambda^2)$ or less:\n",
    "\n",
    "\\begin{equation}\n",
    "H_{0}\\phi_{n} + \\lambda H_I \\phi_n + \\lambda H_0\\sum_{n \\neq k }c_{nk}^{(1)}\\phi_{nk}=E^{(0)}_{n}\\phi_{n} + \\lambda E^{(1)}_{n}\\phi_{n} + \\lambda E^{(0)}_{n}\\sum_{n \\neq k }c_{nk}^{(1)}\\phi_{nk}\n",
    "\\end{equation}\n",
    "\n",
    "If we close with $\\langle \\phi_n|$ we get:\n",
    "\n",
    "\\begin{equation}\n",
    "\\langle \\phi_n |H_{0}|\\phi_{n}\\rangle + \\langle \\phi_n |\\lambda H_I |\\phi_n\\rangle =E^{(0)}_{n} + \\lambda E^{(1)}_{n}\n",
    "\\end{equation}\n",
    "\n",
    "Therefore:\n",
    "\\begin{equation}\n",
    "\\lambda E^{(1)}_{n} = \\langle \\phi_n |\\lambda H_I |\\phi_n\\rangle\n",
    "\\end{equation}\n",
    "\n",
    "If we close with $\\langle \\phi_k|$ we get:\n",
    "\\begin{equation}\n",
    "\\langle \\phi_n |H_{0}|\\phi_{n}\\rangle + \\langle \\phi_k |\\lambda H_I |\\phi_n\\rangle + \\lambda E^{(0)}_{k}c_{nk}^{(1)}= E^{(0)}_{n} + \\lambda E^{(0)}_{n}c_{nk}^{(1)}\n",
    "\\end{equation}\n",
    "\n",
    "Therefore:\n",
    "\\begin{equation}\n",
    "\\langle \\phi_k |\\lambda H_I |\\phi_n\\rangle + \\lambda E^{(0)}_{k}c_{nk}^{(1)} = \\lambda E^{(0)}_{n}c_{nk}^{(1)}\n",
    "\\end{equation}\n",
    "\n",
    "Which gives us the import result:\n",
    "\n",
    "\\begin{equation}\n",
    "\\lambda c_{nk}^{(1)}=\\frac{\\langle\\phi_n\\vert\\lambda H_1\\vert\\phi_n\\rangle}{E_n^{(0)} - E_k^{(0)}}\n",
    "\\end{equation}\n",
    "\n",
    "### Second Order\n",
    "\n",
    "\\begin{equation}\n",
    "\\lambda E^{(1)}_{n} = \\frac{\\langle\\phi_n\\vert\\lambda H_1\\vert\\phi_n\\rangle}{E_n^{(0)} - E_k^{(0)}}\n",
    "\\end{equation}"
   ]
  },
  {
   "cell_type": "markdown",
   "id": "dc667812-6be6-4af5-93cd-988f6060dbea",
   "metadata": {},
   "source": [
    "## Time Dependent Pertubation Theory\n",
    "\n",
    "\\begin{equation}\n",
    "    H = H_0 + H_I(t)\n",
    "\\end{equation}\n",
    "\n",
    "The first part is a Stationary part $H_0$ and the second is the small time dependent interaction part $H_I(t)$, which is a result of the electric field oscillation. Since $H_0$ is the unperturbed hamiltonian, the time independent Schrodinger\n",
    "equation is still satisfied by this part:\n",
    "\n",
    "\\begin{equation}\n",
    "H_{0}\\left|\\varphi_{n}\\right\\rangle=E_{n}\\left|\\varphi_{n}\\right\\rangle\n",
    "\\end{equation}\n",
    "\n",
    "Where our \"total\" wavefunction (including time dependence) is given by:\n",
    "\n",
    "\\begin{equation}\n",
    "\\left|\\psi_{n}(t)\\right\\rangle=\\left|\\varphi_{n}\\right\\rangle e^{-i E_{n} t / \\hbar}\n",
    "\\end{equation}\n",
    "\n",
    "The total Hamiltonian $H = H_0 + H_I(t)$ satisfies the Time dependent schrodinger equation:\n",
    "\\begin{equation}\n",
    "H|\\psi(t)\\rangle=\\left[H_{0}+H_I(t)\\right]|\\psi(t)\\rangle=i \\hbar \\frac{\\partial|\\psi(t)\\rangle}{\\partial t}\n",
    "\\end{equation}\n",
    "\n",
    "Using the completeness of the set of stationary state wavefunctions, we can define any wavefunction as a linear combination of these states. Therefore we can define:\n",
    "\\begin{equation}\n",
    "|\\psi(t)\\rangle=\\sum_{n} c_{n}(t)\\left|\\psi_{n}(t)\\right\\rangle=\\sum_{n} c_{n}(t)\\left|\\varphi_{n}\\right\\rangle e^{-i E_{n} t / \\hbar}\n",
    "\\end{equation}\n",
    "\n",
    "If we then insert this into our Time dependent Schrodinger equation:\n",
    "\n",
    "\\begin{equation}\n",
    "\\begin{array}{c}\n",
    "H_{0} \\sum_{k} c_{k}(t)\\left|\\varphi_{k}\\right\\rangle e^{-i E_{k} t / \\hbar}+H_I(t) \\sum_{k} c_{k}(t)\\left|\\varphi_{k}\\right\\rangle e^{-i E_{k} t / \\hbar} \\\\\n",
    "=i \\hbar \\frac{\\partial}{\\partial t} \\sum_{k} c_{k}(t)\\left|\\varphi_{k}\\right\\rangle e^{-i E_{k} t / \\hbar} \\\\\n",
    "\\\\\n",
    "\\sum_{k} c_{k}(t) E_{k}\\left|\\varphi_{k}\\right\\rangle e^{-i E_{k} t / \\hbar}+\\sum_{k} c_{k}(t) H_I(t)\\left|\\varphi_{k}\\right\\rangle e^{-i E_{k} t / \\hbar} \\\\\n",
    "=i \\hbar \\sum_{k} \\frac{\\partial c_{k}(t)}{\\partial t}\\left|\\varphi_{k}\\right\\rangle e^{-i E_{k} t / \\hbar}+i \\hbar \\sum_{k} c_{k}(t)\\left|\\varphi_{k}\\right\\rangle\\left(-\\frac{i E_{k}}{\\hbar}\\right) e^{-i E_{k} t / \\hbar}\\\\\n",
    "\\\\\n",
    "\\end{array}\n",
    "\\end{equation}\n",
    "\n",
    "We can then close with a $\\langle \\varphi_n | $ −𝜔\n",
    "\n",
    "\\begin{equation}\n",
    "\\begin{array}{c}\n",
    "\\sum_{k} c_{k}(t) E_{k}\\langle \\varphi_n \\left|\\varphi_{k}\\right\\rangle e^{-i E_{k} t / \\hbar}+\\sum_{k} c_{k}(t) \\langle \\varphi_n | H_I(t)\\left|\\varphi_{k}\\right\\rangle e^{-i E_{k} t / \\hbar} = i \\hbar \\sum_{k} \\frac{\\partial c_{k}(t)}{\\partial t}\\langle \\varphi_n \\left|\\varphi_{k}\\right\\rangle e^{-i E_{k} t / \\hbar}+i \\hbar \\sum_{k} c_{k}(t)\\langle \\varphi_n \\left|\\varphi_{k}\\right\\rangle\\left(-\\frac{i E_{k}}{\\hbar}\\right) e^{-i E_{k} t / \\hbar}\\\\\n",
    "\\\\\n",
    "c_{n}(t) E_{n} e^{-i E_{n} t / \\hbar}+\\sum_{k} c_{k}(t) \\langle \\varphi_n | H_I(t)\\left|\\varphi_{k}\\right\\rangle e^{-i E_{k} t / \\hbar}\n",
    "=i \\hbar \\frac{\\partial c_{n}(t)}{\\partial t} e^{-i E_{n} t / \\hbar} + i \\hbar c_{n}(t)\\left(-\\frac{i E_{n}}{\\hbar}\\right) e^{-i E_{n} t / \\hbar}\\\\\n",
    "\\\\\n",
    "\\sum_{k} c_{k}(t) \\langle \\varphi_n | H_I(t)\\left|\\varphi_{k}\\right\\rangle e^{-i E_{k} t / \\hbar}\n",
    "=i \\hbar \\frac{\\partial c_{n}(t)}{\\partial t} e^{-i E_{n} t / \\hbar} \\\\\n",
    "\\\\\n",
    "\\sum_{k} c_{k}(t) H_{nk} e^{-i E_{k} t / \\hbar}\n",
    "=i \\hbar \\frac{\\partial c_{n}(t)}{\\partial t} e^{-i E_{n} t / \\hbar} \\\\\n",
    "\\\\\n",
    "\\frac{\\partial c_{n}(t)}{\\partial t}=\\frac{1}{i \\hbar} \\sum_{k} c_{k}(t) H_{n k}(t) e^{i \\omega_{n k} t} \\quad \\text{where} \\quad \\omega_{n k}=\\left(E_{n}-E_{k}\\right) / \\hbar\n",
    "\\end{array}\n",
    "\\end{equation}\n",
    "\n",
    "Up to this point we have made no approximation. The difficulty in solving the above equation stems from the coefficients being expressed in terms of themselves. In order to evaluate the coefficients we make two assumptions:\n",
    "\n",
    "1. The system is initially in state $|i>$, thus, all of the coefficients at $t = 0$ are equal to zero, except for $c_i$\n",
    "    \n",
    "2. The perturbation is very weak and applied for a short period of time, such that all of the coefficients remain nearly unchanged.\n",
    "\n",
    "Therefore, we get:\n",
    "\n",
    "\\begin{equation}\n",
    "\\frac{\\partial c_{n}(t)}{\\partial t}=\\frac{1}{i \\hbar} c_{i}(t) H_{n i}(t) e^{i \\omega_{n i} t}\n",
    "\\end{equation}\n",
    "\n",
    "for any final state $<f|$ we find that $c_f(t) \\approx c_f(0) = 0$ therefore:\n",
    "\n",
    "\\begin{equation}\n",
    "\\boxed{c_{f}^{(1)}(t)=\\frac{1}{i \\hbar} \\int_{0}^{t} H_{f i}\\left(t^{\\prime}\\right) e^{i \\omega_{f i} t^{\\prime}} d t^{\\prime}}\n",
    "\\end{equation}\n",
    "\n",
    "The above equation demonstrates that a small pertubation to the hamiltonian $H_I$ can induce transitions from some initial state $i$ to some other final state $f$. So the probability of the wavefunction $|\\Psi>$ undergoing this transition $i \\rightarrow f$ is $|c_f|^2$. This is due to the completeness of $|\\Psi>$ is equal to $<\\phi_f|\\Psi>$. Note that, if there is a large energy difference between the initial and final states, a slowly varying perturbation can average to zero. We will find that the perturbation will need frequency components compatible with $\\omega_{fi}$ to cause transitions."
   ]
  },
  {
   "cell_type": "markdown",
   "id": "c48dac4e-6f4a-4c11-adeb-6f4a99b5f7c9",
   "metadata": {},
   "source": [
    "### Second Order\n",
    "If the first order term is zero or higher accuracy is required, the second order term can be computed. In second order, a transition can be made to an intermediate state $\\phi_n$ then a transition to $\\phi_f$. Lets return to an expression we used earlier\n",
    "\n",
    "\\begin{equation}\n",
    "\\frac{\\partial c_{f}(t)}{\\partial t}=\\frac{1}{i \\hbar} \\sum_{k} c_{k}(t) H_{f k}(t) e^{i \\omega_{f k} t} \\quad \\text{where} \\quad \\omega_{f k}=\\left(E_{f}-E_{k}\\right) / \\hbar\n",
    "\\end{equation}\n",
    "\n",
    "This time we don't make the assumption that all of the coefficients  at $t=0$ are equal to zero, and instead we can sub in our first order expression for $c_n^{(1)}$\n",
    "\n",
    "\\begin{equation}\n",
    "\\frac{\\partial c_{f}(t)}{\\partial t}=\\frac{1}{i \\hbar}\\left(c_{i}(t) H_{f i}(t) e^{i \\omega_{n k} t} + \\sum_{n \\neq i}H_{f n}(t) e^{i \\omega_{f n} t} \\left(\\frac{1}{i \\hbar} \\int_{0}^{t} H_{n i}\\left(t^{\\prime}\\right) e^{i \\omega_{f i} t^{\\prime}} d t^{\\prime}\\right) \\right)\n",
    "\\end{equation}\n",
    "\n",
    "And then, intergrating the second term in this to get the second order term $c_f^{(2)}$ \n",
    "\\begin{equation}\n",
    "\\boxed{c_{f}(t)^{(2)}=\\frac{-1}{\\hbar^2} \\sum_{n \\neq i} \\int_{0}^{t} H_{f n}(t) e^{i \\omega_{f n} t} dt'' \\left(\\int_{0}^{t''} H_{n i}\\left(t^{\\prime}\\right) e^{i \\omega_{f i} t^{\\prime}} d t^{\\prime}\\right)}\n",
    "\\end{equation}"
   ]
  },
  {
   "cell_type": "markdown",
   "id": "b5262588-fc2e-46ec-bd06-c1de53494820",
   "metadata": {
    "tags": []
   },
   "source": [
    "## Fermi's Golden Rule\n",
    "It is important study a periodic perturbation with a given frequency $ \\omega $  since arbitrary perturbations can be constructed from periodic perturbations of different frequencies. Since ${\\displaystyle H_I(t)}$ must be Hermitian, we can assume ${\\displaystyle H_I(t)=W(e^{-\\mathrm {i} \\omega t}+e^{\\mathrm {i} \\omega t}})$, where ${\\displaystyle W}$ is a time independent operator. Subbing this into our first order solution we get a solution for this case to be:\n",
    "\n",
    "\\begin{equation}\n",
    "\\begin{aligned}\n",
    "c_{f}(t)&=\\frac{\\langle f |W|i\\rangle }{i \\hbar} \\int_{0}^{t} \\left( e^{-\\mathrm {i} \\omega t}  +  e^{\\mathrm {i} \\omega t} \\right)   e^{i \\omega_{f i} t^{\\prime}} d t^{\\prime} \\\\\n",
    "&=- \\langle f |W|i\\rangle \\left(\\frac{e^{ \\mathrm {i}(\\omega_{f i} -\\omega)t} -1}{\\hbar (\\omega_{f i} -\\omega)}  + \\frac{e^{ \\mathrm {i}(\\omega_{f i} + \\omega)t} - 1}{\\hbar(\\omega_{f i} + \\omega)}\\right)\n",
    "\\end{aligned}\n",
    "\\end{equation}\n",
    "\n",
    "Now, if we take the case where our osscilating angular frequency is close the the transition frequency, i.e $ \\omega \\approx \\omega_{fi}$ then the first term here becomes our dominant terms, and the second term becomes negligable.\n",
    "\n",
    "\\begin{equation}\n",
    "c_{f}(t)=- \\langle f |W|i\\rangle \\left(\\frac{e^{ \\mathrm {i}(\\omega_{f i} -\\omega)t} -1}{\\hbar (\\omega_{f i} -\\omega)}\\right) = \\frac{\\langle f |W|i\\rangle}{i \\hbar} \\left(\\frac{e^{ \\mathrm {i}(\\omega_{f i} -\\omega)t} -1}{i(\\omega_{f i} -\\omega)}\\right)\n",
    "\\end{equation}\n",
    "\n",
    "This can then be rewritten\n",
    "\n",
    "\\begin{equation}\n",
    "c_{f}(t) = \\frac{\\langle f |W|i\\rangle}{i \\hbar} \\left(e^{ \\mathrm {i}(\\omega_{f i} -\\omega)t/2}\\frac{e^{ \\mathrm {i}(\\omega_{f i} -\\omega)t/2} -e^{ -\\mathrm {i}(\\omega_{f i} -\\omega)t/2}}{i(\\omega_{f i} -\\omega)}\\right) = \\frac{\\langle f |W|i\\rangle}{i \\hbar} \\left(2e^{ \\mathrm {i}(\\omega_{f i} -\\omega)t/2} \\text{sinc}\\left(\\frac{(\\omega_{f i} -\\omega)t}{2}\\right)\\right) \n",
    "\\end{equation}\n",
    "\n",
    "We can now extract a probability of transition from $P_{if}(t) = |c_f(t)|^2$ to give:\n",
    "\n",
    "\\begin{equation}\n",
    "P_{if}(t) = \\frac{(\\langle f |W|i\\rangle)^2}{\\hbar^2} \\left[4\\text{sinc}^2\\left(\\frac{(\\omega_{f i} -\\omega)t}{2}\\right)\\right]\n",
    "\\end{equation}"
   ]
  },
  {
   "cell_type": "code",
   "execution_count": 17,
   "id": "c182cf2f-4ec1-4393-a17a-5d4235395444",
   "metadata": {
    "jupyter": {
     "source_hidden": true
    },
    "tags": []
   },
   "outputs": [
    {
     "data": {
      "text/plain": [
       "Text(0, 0.5, '$ P $')"
      ]
     },
     "execution_count": 17,
     "metadata": {},
     "output_type": "execute_result"
    },
    {
     "data": {
      "image/png": "[encoded data removed]",
      "text/plain": [
       "<Figure size 720x432 with 1 Axes>"
      ]
     },
     "metadata": {
      "needs_background": "light"
     },
     "output_type": "display_data"
    }
   ],
   "source": [
    "x = np.linspace(-100, 100, 1000)\n",
    "P = (np.sin(x/2)/((x/2)))**2\n",
    "\n",
    "plt.figure(figsize=(10,6))\n",
    "plt.plot(x, P)\n",
    "plt.xlabel('$\\omega_{fi} - \\omega$')\n",
    "plt.ylabel('$ P $')"
   ]
  },
  {
   "cell_type": "markdown",
   "id": "322834d7-b4a1-41a2-8945-705e174489f4",
   "metadata": {
    "tags": []
   },
   "source": [
    "As we can see in the above plot, the probability of transition (shown above normalised to the max) has a sharp peak about when the transition frequency is equal to the photon frequency -this is a resonant behaviour.\n",
    "\n",
    "Now, the equation above is suitable for short times (of order $1/(\\omega_{fi} - \\omega)$ which is a v short time). On longer time scales, it is possible to make the approximation that the value in the square bracket can become $2\\pi t \\delta(\\omega_{if} - \\omega)$\n",
    "\n",
    "\\begin{equation}\n",
    "P_{if}(t) = \\frac{(\\langle f |W|i\\rangle)^2}{\\hbar^2} \\left[4\\text{sinc}^2\\left(\\frac{(\\omega_{f i} -\\omega)t}{2}\\right)\\right] \\rightarrow \\frac{(\\langle f |W|i\\rangle)^2}{\\hbar^2}2\\pi t \\delta(E_f - E_i - \\hbar\\omega)\n",
    "\\end{equation}\n",
    "\n",
    "and look at that! $\\textbf{Fermi's Golden rule}$, its:\n",
    "\n",
    "\\begin{equation}\n",
    "\\boxed{P_{if}(t) = \\frac{(\\langle f |W|i\\rangle)^2}{\\hbar^2}2\\pi t \\delta(E_f - E_i - \\hbar\\omega)}\n",
    "\\end{equation}\n",
    "\n",
    "Differentiate with time to get a rate:\n",
    "\n",
    "\\begin{equation}\n",
    "\\boxed{\\Gamma_{i \\rightarrow f} = \\frac{(\\langle f |W|i\\rangle)^2}{\\hbar^2}2\\pi \\delta(E_f - E_i - \\hbar\\omega)}\n",
    "\\end{equation}\n",
    "\n",
    "### Determining the Delta function approximation\n",
    "\n",
    "But why can we make this subsititution? Well lets work through it. Lets first define function $g(\\Delta)$\n",
    "\n",
    "\\begin{equation}\n",
    "g(\\Delta = \\omega_{f i} -\\omega) = 4\\frac{\\text{sin}^2\\left(\\Delta t/2\\right)}{\\Delta t/2}\n",
    "\\end{equation}\n",
    "\n",
    "Considering our case when $t$ is large, when $\\Delta = 0$ we find that $g(\\Delta)=0$, for other large values of $\\Delta$ we find that $g(\\Delta)$ rapidly approaches $0$. This is Dirac delta behaviour. But what sort of dirac delta function is it? To determine this, we use the properties for the Dirac Delta function as a measure - i.e:\n",
    "\n",
    "\\begin{equation}\n",
    " f(0) = \\int^{\\infty}_{\\infty} f(x) \\delta(x) dx\n",
    "\\end{equation}\n",
    "\n",
    "Lets apply this property to the our function $g(\\omega)$ to find out exactly what sort of delta function it is. So\n",
    "\n",
    "\\begin{equation}\n",
    "\\begin{aligned}\n",
    "    f(0) &= \\int^{\\infty}_{\\infty} f(\\Delta) g(\\Delta) d\\Delta =  f(0)\\int^{\\infty}_{\\infty} g(\\Delta) d\\Delta \\\\\n",
    "    &= f(0)\\int^{\\infty}_{\\infty} 4\\frac{\\text{sin}^2\\left(\\Delta t/2\\right)}{\\Delta t/2} d\\Delta \\\\\n",
    "    &= f(0)\\int^{\\infty}_{\\infty} 4\\frac{\\text{sin}^2\\left(y\\right)}{4y^2} d\\Delta \\\\\n",
    "    &= f(0)\\frac{2}{t}\\int^{\\infty}_{\\infty} \\frac{\\text{sin}^2\\left(y\\right)}{y^2} dy \\\\ \n",
    "    & = \\frac{2 \\pi}{t}f(0)\\\\\n",
    "    \\\\\n",
    "    \\therefore g(\\Delta) &= \\frac{2 \\pi}{t} \\delta(\\Delta)    \n",
    "\\end{aligned}\n",
    "\\end{equation}\n",
    "\n",
    "Thus, we can make the approximation that  $4\\text{sinc}^2\\left(\\Delta t/2\\right) = 2\\pi t \\delta(\\Delta)$ for large $t$"
   ]
  },
  {
   "cell_type": "code",
   "execution_count": 33,
   "id": "64ff4e51-5e64-4238-b5e9-d5af97eaece5",
   "metadata": {
    "jupyter": {
     "source_hidden": true
    },
    "tags": []
   },
   "outputs": [
    {
     "data": {
      "image/png": "[encoded data removed]",
      "text/plain": [
       "<Figure size 720x432 with 1 Axes>"
      ]
     },
     "metadata": {
      "needs_background": "light"
     },
     "output_type": "display_data"
    }
   ],
   "source": [
    "x = np.linspace(-10, 10, 100000)\n",
    "P = (np.sin(x/2)/((x/2)))**2\n",
    "P2 = (np.sin(x*10/2)/((x*10/2)))**2\n",
    "P3 = (np.sin(x*100/2)/((x*100/2)))**2\n",
    "\n",
    "plt.figure(figsize=(10,6))\n",
    "plt.plot(x, P, label='t=1')\n",
    "plt.plot(x, P2, label = 't=10')\n",
    "plt.plot(x, P3, label = 't=100')\n",
    "\n",
    "plt.xlabel('$\\omega_{fi} - \\omega$')\n",
    "plt.ylabel('$ P $')\n",
    "plt.title('sinc function showing delta like behaviour with increasing $t$')\n",
    "plt.legend()\n",
    "plt.show()"
   ]
  },
  {
   "cell_type": "code",
   "execution_count": null,
   "id": "15aaa160-f0e2-409c-901e-8d33becb5f67",
   "metadata": {},
   "outputs": [],
   "source": []
  }
 ],
 "metadata": {
  "kernelspec": {
   "display_name": "Python 3",
   "language": "python",
   "name": "python3"
  },
  "language_info": {
   "codemirror_mode": {
    "name": "ipython",
    "version": 3
   },
   "file_extension": ".py",
   "mimetype": "text/x-python",
   "name": "python",
   "nbconvert_exporter": "python",
   "pygments_lexer": "ipython3",
   "version": "3.8.8"
  }
 },
 "nbformat": 4,
 "nbformat_minor": 5
}
