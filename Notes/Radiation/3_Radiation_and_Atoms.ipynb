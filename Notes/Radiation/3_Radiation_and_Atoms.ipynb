{
 "cells": [
  {
   "cell_type": "markdown",
   "id": "4abcc0a0-a7d7-4eef-9a25-d1ad0778a875",
   "metadata": {},
   "source": [
    "# Radiation in Atoms"
   ]
  },
  {
   "cell_type": "markdown",
   "id": "274c57f4-b974-4b74-932f-ef26ae3e36a5",
   "metadata": {},
   "source": [
    "## The Photon Field in the Quantum Hamiltonian\n",
    "The hamiltonian for a charged particle in the presence of a EM field is given by\n",
    "\n",
    "\\begin{equation}\n",
    "    H = \\frac{1}{2m}\\left(\\vec{p} + \\frac{e}{c} \\vec{A}\\right)^2 + V(r)\n",
    "\\end{equation}\n",
    "\n",
    "Assuming there is some weak electromagnetic field around the atom (weak enough that the $A^2$ terms can be neglected), and working in the coulomb gauage ($p\\cdot A = 0$) our hamiltonian becomes:\n",
    "\n",
    "\\begin{equation}\n",
    "    H = \\frac{p^2}{2m} + \\frac{e}{mc}\\vec{A}\\cdot \\vec{p} + V(r)\n",
    "\\end{equation}\n",
    "\n",
    "This provides us a potentially time dependent perturbation, which as we know from pertubation theory may drive transitions between the atomic states.\n",
    "\n",
    "\\begin{equation}\n",
    "    H_I =\\frac{e}{mc}\\vec{A}\\cdot \\vec{p}\n",
    "\\end{equation}"
   ]
  },
  {
   "cell_type": "markdown",
   "id": "f4f9b6ec-5082-47ac-89bd-915ce0901056",
   "metadata": {},
   "source": [
    "Lets make the assumption that our field has some frequency $\\omega$ and wave vector $k$:\n",
    "\n",
    "\\begin{equation}\n",
    "    \\vec{A}(r, t) = 2A_0 \\text{cos}(k\\cdot r - \\omega t)\n",
    "\\end{equation}\n",
    "\n",
    "We have introduced the facctor of 2 for later convienece. Using classical E&M to compute the energy in a field represented by a vector potential, we find that the energy of the vector potential contained within volume $V$ is:\n",
    "\n",
    "\\begin{equation}\n",
    " \\text{Energy} = U \\times V = \\frac{V}{8\\pi}(B^2 + E^2) = \\frac{\\omega^2 A_0^2 V}{2 \\pi c^2} = N \\hbar \\omega\n",
    "\\end{equation}\n",
    "\n",
    "Where $U$ is the energy density. We have also equated the energy of the vector potential in volume $V$ to the number of photons $N$ of energy $\\hbar \\omega$."
   ]
  },
  {
   "cell_type": "markdown",
   "id": "5dff615f-3b37-4a3d-82e1-b6f054f48abe",
   "metadata": {},
   "source": [
    "We can now flip this experession on its head, allowing us to write out $\\vec{A}$ in terms of number of Photons:\n",
    "\n",
    "\\begin{equation}\n",
    "\\begin{aligned}\n",
    "    \\vec{A}(r, t) = \\sqrt{\\frac{2 N \\hbar\\pi c^2}{\\omega V}} \\hat{\\epsilon} (2\\text{cos}(k\\cdot r - \\omega t))\\\\\n",
    "    \\\\\n",
    "    \\vec{A}(r, t) = \\sqrt{\\frac{2 N \\hbar\\pi c^2}{\\omega V}} \\hat{\\epsilon} (e^{i(k\\cdot r - \\omega t)} + e^{-i(k\\cdot r - \\omega t)})\n",
    "\\end{aligned}  \n",
    "\\end{equation}\n",
    "\n",
    "And we have introduced our polarisation unit vector $\\hat{\\epsilon}$ to provide direction to our vector potential.  We now have derived a perturbation which can induce radiative transitions TThe terms with negative and positive $\\omega$ are associated with stimulated emission and absorption of photons respectively. These transitions only happen in the presence of a time varying vector potential (time varying electromagnetic field). \n",
    "\n",
    "What about spontaneous decay? This requires a few steps beyond classical electromagnetism, and actually quantise the field. Lets do this in a sort of hand wavy way, we can formally quantise the photon field at a later point if we want. But for now, lets assume the number of photons in the field can be repsresented by the $n$ of a quantum harmonic osscilator. The perturbation above emit and absorb photons of $\\hbar \\omega$ so this makes sense. The quantum harmonic oscillator has a non-zero ground state, hense the peturbing field is never really zero. We do this by swapping the $N$ to an $N+1$ in the termt aht creates a photon, analogous to the raising operator $A^{\\dagger}$ in the quantum harmonic osscillator. Thus\n",
    "\n",
    "\\begin{equation}\n",
    "    \\vec{A}(r, t) = \\sqrt{\\frac{2\\hbar\\pi c^2}{\\omega V}} \\hat{\\epsilon} (\\sqrt{N}e^{i(k\\cdot r - \\omega t)} + \\sqrt{N+1}e^{-i(k\\cdot r - \\omega t)})\n",
    "\\end{equation}\n",
    "\n",
    "We now find that there is a perturbation even with no applied field, i.e: $N=0$. Remember: One exponenetial corresponds to the absorption of a photon, the other corresponds to emmision. We also view $\\vec{A}$ as an operator which can instigate either emission or absorption.\n",
    "\n",
    "Note that our perturbation still depends on the volume we assume. This factor will be canceled when we correctly compute the density of final states.\n",
    "\n",
    "We have taken a step toward quantization of the EM field, at least when we emit or absorb a photon. With this step, we can correctly compute the EM transition rates in atoms. Note that we have postulated that the vacuum has an infinite number of oscillators corresponding to the different possible modes of EM waves. When we quantize these oscillators, the vacuum has a ground state energy density in the EM field (equivalent to half a photon of each type). That vacuum EM field is then responsible for the spontaneous decay of excited states of atoms through the emission of a photon. We have not yet written the quantum equations that the EM field must satisfy, although they are closely related to Maxwell's equations."
   ]
  },
  {
   "cell_type": "code",
   "execution_count": null,
   "id": "d498ce79-04a8-4bd8-8f00-f0096e357bb8",
   "metadata": {},
   "outputs": [],
   "source": []
  }
 ],
 "metadata": {
  "kernelspec": {
   "display_name": "Python 3",
   "language": "python",
   "name": "python3"
  },
  "language_info": {
   "codemirror_mode": {
    "name": "ipython",
    "version": 3
   },
   "file_extension": ".py",
   "mimetype": "text/x-python",
   "name": "python",
   "nbconvert_exporter": "python",
   "pygments_lexer": "ipython3",
   "version": "3.8.8"
  }
 },
 "nbformat": 4,
 "nbformat_minor": 5
}
